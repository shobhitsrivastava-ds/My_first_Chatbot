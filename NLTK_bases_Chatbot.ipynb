{
 "cells": [
  {
   "cell_type": "code",
   "execution_count": null,
   "metadata": {},
   "outputs": [],
   "source": [
    "# Importing the suitable libraries\n",
    "import pandas as pd\n",
    "import numpy as np\n",
    "import nltk\n",
    "import seaborn as sns\n",
    "import matplotlib.pyplot as plt\n",
    "import re\n",
    "import random\n",
    "import string\n",
    "from sklearn.feature_extraction.text import TfidfVectorizer\n",
    "from sklearn.metrics.pairwise import cosine_similarity\n",
    "from nltk.chat.util import Chat, reflections"
   ]
  },
  {
   "cell_type": "code",
   "execution_count": 454,
   "metadata": {},
   "outputs": [],
   "source": [
    "# Opening the text file\"\n",
    "f=open('chatbot.txt','r')"
   ]
  },
  {
   "cell_type": "code",
   "execution_count": 455,
   "metadata": {},
   "outputs": [],
   "source": [
    "# reading out the document\n",
    "raw = f.read().decode(\"utf-8\").strip()"
   ]
  },
  {
   "cell_type": "code",
   "execution_count": 456,
   "metadata": {},
   "outputs": [
    {
     "name": "stderr",
     "output_type": "stream",
     "text": [
      "[nltk_data] Downloading package punkt to /home/ubantu/nltk_data...\n",
      "[nltk_data]   Package punkt is already up-to-date!\n",
      "[nltk_data] Downloading package wordnet to /home/ubantu/nltk_data...\n",
      "[nltk_data]   Package wordnet is already up-to-date!\n"
     ]
    },
    {
     "data": {
      "text/plain": [
       "True"
      ]
     },
     "execution_count": 456,
     "metadata": {},
     "output_type": "execute_result"
    }
   ],
   "source": [
    "nltk.download('punkt')\n",
    "nltk.download(\"wordnet\")"
   ]
  },
  {
   "cell_type": "code",
   "execution_count": 457,
   "metadata": {},
   "outputs": [],
   "source": [
    "# tokenizing the sentences\n",
    "sent_tokens = nltk.sent_tokenize(raw)"
   ]
  },
  {
   "cell_type": "code",
   "execution_count": 458,
   "metadata": {},
   "outputs": [],
   "source": [
    "# tokeizing the words\n",
    "word_tokens = nltk.word_tokenize(raw)"
   ]
  },
  {
   "cell_type": "code",
   "execution_count": 459,
   "metadata": {},
   "outputs": [
    {
     "data": {
      "text/plain": [
       "['Some chatbots use sophisticated natural language processing systems, but many simpler ones scan for keywords within the input, then pull a reply with the most matching keywords, or the most similar wording pattern, from a database.The term \"ChatterBot\" was originally coined by Michael Mauldin (creator of the first Verbot, Julia) in 1994 to describe these conversational programs.Today, most chatbots are accessed via virtual assistants such as Google Assistant and Amazon Alexa, via messaging apps such as Facebook Messenger or WeChat, or via individual organizations\\' apps and websites.Chatbots can be classified into usage categories such as conversational commerce (e-commerce via chat), analytics, communication, customer support, design, developer tools, education, entertainment, finance, food, games, health, HR, marketing, news, personal, productivity, shopping, social, sports, travel and utilities.Beyond chatbots, Conversational AI refers to the use of messaging apps, speech-based assistants and chatbots to automate communication and create personalized customer experiences at scale.In 1950, Alan Turing\\'s famous article \"Computing Machinery and Intelligence\" was published, which proposed what is now called the Turing test as a criterion of intelligence.']"
      ]
     },
     "execution_count": 459,
     "metadata": {},
     "output_type": "execute_result"
    }
   ],
   "source": [
    "sent_token[1:2]"
   ]
  },
  {
   "cell_type": "code",
   "execution_count": 524,
   "metadata": {},
   "outputs": [],
   "source": [
    "def LemTokens(tokens):\n",
    "    return [lemmer.lemmatize(token) for token in tokens]\n",
    "remove_punct_dict = dict((ord(punct), None) for punct in string.punctuation)\n",
    "def LemNormalize(text):\n",
    "    return LemTokens(nltk.word_tokenize(text.lower().translate(remove_punct_dict)))"
   ]
  },
  {
   "cell_type": "code",
   "execution_count": 525,
   "metadata": {},
   "outputs": [],
   "source": [
    "lemmer = nltk.stem.WordNetLemmatizer()"
   ]
  },
  {
   "cell_type": "code",
   "execution_count": 461,
   "metadata": {},
   "outputs": [],
   "source": [
    "# PRACTICE CODE\n",
    "\"\"\"sent_filter= []\n",
    "filter_sent = []\n",
    "def LemTokens(tokens,how=\"a\"):\n",
    "    if(how==\"a\"):\n",
    "        for s in tokens:\n",
    "            ss =[lemmer.lemmatize(t.lower()) for t in s.split()]\n",
    "            ss=\" \".join(ss)\n",
    "            sent_filter.append(ss)\n",
    "        for sent in sent_filter:\n",
    "            filter_sent.append(re.sub(r'[\\,\\.\\\"]',\"\",sent))\n",
    "        filter_se= pd.DataFrame(filter_sent,columns=[\"text\"])\n",
    "    else:\n",
    "        for sent in tokens:\n",
    "            filter_sent.append(re.sub(r'[\\,\\.\\\"]',\"\",sent))\n",
    "            filter_se= pd.DataFrame(filter_sent,columns=[\"text\"])\n",
    "    return(filter_se)\"\"\""
   ]
  },
  {
   "cell_type": "code",
   "execution_count": 462,
   "metadata": {},
   "outputs": [],
   "source": [
    "#filter_ser = LemTokens(sent_tokens)"
   ]
  },
  {
   "cell_type": "code",
   "execution_count": null,
   "metadata": {},
   "outputs": [],
   "source": [
    "#filter_ser"
   ]
  },
  {
   "cell_type": "code",
   "execution_count": 415,
   "metadata": {},
   "outputs": [],
   "source": [
    "#filter_sent= pd.Series(filter_sent)"
   ]
  },
  {
   "cell_type": "code",
   "execution_count": 416,
   "metadata": {},
   "outputs": [],
   "source": [
    "GREETING_INPUTS = (\"hello\",\"hi\",\"greetings\",\"sup\",\"what's\")"
   ]
  },
  {
   "cell_type": "code",
   "execution_count": 417,
   "metadata": {},
   "outputs": [],
   "source": [
    "GREETING_RESPONSES =[\"hi\",\"hey\",\"nods*\",\"hi there\", \"hello\", \"I am glad! you are talking to me\"]\n"
   ]
  },
  {
   "cell_type": "code",
   "execution_count": null,
   "metadata": {},
   "outputs": [],
   "source": [
    "# Function to generating greetings\n",
    "def greeting(sentences):\n",
    "    for word in sentences.split():\n",
    "        if word.lower() in GREETING_INPUTS:\n",
    "            return(random.choice(GREETING_RESPONSES))"
   ]
  },
  {
   "cell_type": "code",
   "execution_count": null,
   "metadata": {},
   "outputs": [],
   "source": [
    "# Function for generating the response\n",
    "def response(user_response):\n",
    "    robo_response =\" \"\n",
    "    sent_tokens.append(user_response)\n",
    "    Tfidf = TfidfVectorizer(tokenizer=LemNormalize, stop_words='english')\n",
    "    tfidf = Tfidf.fit_transform(sent_token)\n",
    "    vals = cosine_similarity(tfidf[-1], tfidf)\n",
    "    idx=vals.argsort()[0][-2]\n",
    "    flat = vals.flatten()\n",
    "    flat.sort()\n",
    "    req_tfidf = flat[-2]\n",
    "    if(req_tfidf==0):\n",
    "        robo_response=robo_response+\"I am sorry! I don't understand you\"\n",
    "        return robo_response\n",
    "    else:\n",
    "        robo_response = robo_response+sent_tokens[idx]\n",
    "        return robo_response"
   ]
  },
  {
   "cell_type": "code",
   "execution_count": null,
   "metadata": {},
   "outputs": [
    {
     "name": "stdout",
     "output_type": "stream",
     "text": [
      "ROBO:: My name is Robo. I will answer your queries about chatbots.If you want to end the conversation, type Bye Bye..\n"
     ]
    }
   ],
   "source": [
    "# Main part of the code which governs other\n",
    "flag = True\n",
    "print(\"ROBO:: My name is Robo. I will answer your queries about chatbots.If you want to end the conversation, type Bye Bye..\")\n",
    "while(flag==True):\n",
    "    user_response=input()\n",
    "    user_resp = user_response.lower()\n",
    "    if(user_resp!=\"bye\"):\n",
    "        if(user_resp==\"thanks\" or user_resp==\"thanks you\"):\n",
    "            flag=False\n",
    "            print(\"ROBO:: you are welcome\")\n",
    "        elif(user_resp==\"how are you?\" or user_resp==\"what's up?\"):\n",
    "            print(\"ROBO:: I am fine, thanks!\")\n",
    "        elif(user_resp==\"what are you doing?\" or user_resp==\"what can you do?\"):\n",
    "            print(\"ROBO:: Answering your queries !!\")\n",
    "        else:\n",
    "            if(greeting(user_resp)!=None):\n",
    "                print(\"ROBO :: \"+greeting(user_resp))\n",
    "            else:\n",
    "                print(\"ROBO:: {}\".format(response(user_resp)))\n",
    "                sent_tokens.remove(user_response)\n",
    "    else:\n",
    "        flag =False\n",
    "        print(\"ROBO :: Bye! take care..\")"
   ]
  },
  {
   "cell_type": "code",
   "execution_count": null,
   "metadata": {},
   "outputs": [],
   "source": []
  },
  {
   "cell_type": "code",
   "execution_count": null,
   "metadata": {},
   "outputs": [],
   "source": []
  }
 ],
 "metadata": {
  "kernelspec": {
   "display_name": "Python 3",
   "language": "python",
   "name": "python3"
  },
  "language_info": {
   "codemirror_mode": {
    "name": "ipython",
    "version": 2
   },
   "file_extension": ".py",
   "mimetype": "text/x-python",
   "name": "python",
   "nbconvert_exporter": "python",
   "pygments_lexer": "ipython2",
   "version": "2.7.15"
  }
 },
 "nbformat": 4,
 "nbformat_minor": 2
}
